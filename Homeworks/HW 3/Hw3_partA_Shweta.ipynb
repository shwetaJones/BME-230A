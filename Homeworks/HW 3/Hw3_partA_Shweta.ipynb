{
  "nbformat": 4,
  "nbformat_minor": 0,
  "metadata": {
    "colab": {
      "name": "Hw3-partA-Shweta.ipynb",
      "provenance": [],
      "collapsed_sections": []
    },
    "kernelspec": {
      "display_name": "Python 2",
      "language": "python",
      "name": "python2"
    }
  },
  "cells": [
    {
      "cell_type": "markdown",
      "metadata": {
        "id": "a5eSFzm_NNvG"
      },
      "source": [
        "# BME-230A: Homework 2 Part A\n",
        "\n",
        "Your assignment for homework 2A is to redo the linear regression analysis, but using a different classification method from SKLearn. \n",
        "\n",
        "Copy this notebook and complete the homework as an IPython notebook. Submit the notebook file to Canvas to complete the homework.\n",
        "\n",
        "Use the same dataset:\n",
        "https://drive.google.com/file/d/1FZbQCEHr2Rie4cXSM6Udg0SaWTtPnEHO/view?usp=sharing\n",
        "\n",
        "Goals and Requirements:\n",
        "1. Select a classification method from [SKLearn](http://scikit-learn.org/):\n",
        "    * We recommend logistic regression or any forest method as they are fairly intuitive. Feel free to investigate a method for regularization of the model (preventing over training).\n",
        "\n",
        "2. Write a short explanation of the method and how it works (look for explanations in documention, youtube, or online).\n",
        "\n",
        "3. Try to achieve the highest accuracy / estimator quality.\n",
        "\n",
        "*Notes*:\n",
        "\n",
        "Use a reasonable train/test split of 80%/20% or even 70%/30% to avoid too much variance in your estimate of accuracy, FPR and TPR. "
      ]
    },
    {
      "cell_type": "markdown",
      "metadata": {
        "id": "bFp4Rq2BNNvH"
      },
      "source": [
        "## Method\n",
        "\n",
        "Describe the method you have selected and give a short explanation of how it works. Feel free to include a textual description and any mathematics you feel relevant.\n"
      ]
    },
    {
      "cell_type": "markdown",
      "source": [
        "**What is the Logistic Regression Model?**\n",
        "\n",
        "The Logistic Regression method is a classification method which is a linear model for classification. Using a logistic function, it models the possible outcomes of a single trial. "
      ],
      "metadata": {
        "id": "ni35dfhyFHIi"
      }
    },
    {
      "cell_type": "markdown",
      "source": [
        "**Why did I choose Logistic Regression?**\n",
        "\n",
        "The reason why I chose this method was because of the simpleness of its implementation. "
      ],
      "metadata": {
        "id": "It_GU1A1EvHu"
      }
    },
    {
      "cell_type": "markdown",
      "metadata": {
        "id": "Y4BfV3M19Vkm"
      },
      "source": [
        "# Your Code\n",
        "\n",
        "Below include your code"
      ]
    },
    {
      "cell_type": "markdown",
      "source": [
        "*I worked on this assignment with Sahasra Shankar and Maheep Luthra*"
      ],
      "metadata": {
        "id": "9uqNGiB_G4cB"
      }
    },
    {
      "cell_type": "markdown",
      "source": [
        "**Loading and Preprocessing the Data:**"
      ],
      "metadata": {
        "id": "OTeMlvrXCgl8"
      }
    },
    {
      "cell_type": "code",
      "metadata": {
        "id": "yJyrwe1D9a2l"
      },
      "source": [
        "# Load the Data\n",
        "import urllib.request\n",
        "url = \"https://raw.githubusercontent.com/benedictpaten/intro_python/main/lecture_notebooks/data/breast-cancer-wisconsin.data.csv\"\n",
        "data = 'data.csv'\n",
        "urllib.request.urlretrieve(url, data) # This function copies the thing the url points at into a local copy\n",
        "\n",
        "import numpy as np\n",
        "import pandas as pd\n",
        "df = pd.read_csv(\"data.csv\")\n",
        "\n",
        "#Preprocess the Data\n",
        "from sklearn import preprocessing\n",
        "encoder = preprocessing.LabelEncoder()\n",
        "for col in df.columns: # For each column in the data frame\n",
        "    df[col] = encoder.fit_transform(df[col]) # Transform the series so is zero based"
      ],
      "execution_count": 10,
      "outputs": []
    },
    {
      "cell_type": "markdown",
      "source": [
        "**Logistic Regression - Variable Selection:**"
      ],
      "metadata": {
        "id": "3Qw7pSp_7Swt"
      }
    },
    {
      "cell_type": "code",
      "source": [
        "from sklearn.datasets import load_iris\n",
        "from sklearn import datasets, linear_model\n",
        "from sklearn.linear_model import LogisticRegression\n",
        "\n",
        "#Variable Selection\n",
        "features = list(df.keys())\n",
        "features.remove('id')\n",
        "features.remove('class')\n",
        "\n",
        "feature_scores = []\n",
        "\n",
        "for feature in features:\n",
        "    x = df[[feature]]\n",
        "    y = df['class']\n",
        "    lr_model = linear_model.LogisticRegression(penalty='l2',dual=False, tol=0.001, C=1.0, fit_intercept=True, intercept_scaling=1, class_weight=None, random_state=None, solver='lbfgs', max_iter=100, multi_class='auto', verbose=0, warm_start=False, n_jobs=None, l1_ratio=None)\n",
        "    lr_model.fit(x, y)\n",
        "    feature_scores.append([feature, lr_model.score(x,y)])\n",
        "\n",
        "feature_scores.sort(key=lambda x: x[1], reverse=True)\n",
        "for feature_score in feature_scores:\n",
        "    print(feature_score)"
      ],
      "metadata": {
        "id": "PspmD33D7V7k",
        "colab": {
          "base_uri": "https://localhost:8080/"
        },
        "outputId": "5aca9733-28fe-43a4-bdb7-e66c1cb1ae48"
      },
      "execution_count": 11,
      "outputs": [
        {
          "output_type": "stream",
          "name": "stdout",
          "text": [
            "['uniformity-of-cell-size', 0.927038626609442]\n",
            "['uniformity-of-cell-shape', 0.9227467811158798]\n",
            "['bland-chromatin', 0.9070100143061517]\n",
            "['single-epithelial-cell-size', 0.8755364806866953]\n",
            "['normal-nucleoli', 0.8669527896995708]\n",
            "['marginal-adhesion', 0.8640915593705293]\n",
            "['clump-thickness', 0.8612303290414879]\n",
            "['mitoses', 0.7896995708154506]\n",
            "['bare-nuclei', 0.7138769670958512]\n"
          ]
        }
      ]
    },
    {
      "cell_type": "markdown",
      "source": [
        "**Logistic Regression w/ Multiple Variables**"
      ],
      "metadata": {
        "id": "uB7rXXrYAvfp"
      }
    },
    {
      "cell_type": "code",
      "source": [
        "x = df[['uniformity-of-cell-shape','uniformity-of-cell-size']]\n",
        "y = df['class']\n",
        "lr_model = linear_model.LogisticRegression(penalty='l2',dual=False, tol=0.0001, C=1.0, fit_intercept=True, intercept_scaling=1, class_weight=None, random_state=None, solver='lbfgs', max_iter=100, multi_class='auto', verbose=0, warm_start=False, n_jobs=None, l1_ratio=None)\n",
        "lr_model.fit(x, y)\n",
        "print(\"Score: \", lr_model.score(x,y))"
      ],
      "metadata": {
        "id": "_3_0jtEZ7eNY",
        "colab": {
          "base_uri": "https://localhost:8080/"
        },
        "outputId": "0663ffd6-4a5f-4e1b-cc52-3afa42443e06"
      },
      "execution_count": 12,
      "outputs": [
        {
          "output_type": "stream",
          "name": "stdout",
          "text": [
            "Score:  0.9456366237482118\n"
          ]
        }
      ]
    },
    {
      "cell_type": "markdown",
      "metadata": {
        "id": "6v8hkGiMNNvI"
      },
      "source": [
        "# Classification\n",
        "Create training/test splits and train the classifier. Report the accuracy, FPR and TPR."
      ]
    },
    {
      "cell_type": "markdown",
      "source": [
        "**From Regression to Classification**"
      ],
      "metadata": {
        "id": "Rkprb4VgBxAL"
      }
    },
    {
      "cell_type": "code",
      "metadata": {
        "id": "gQmwhhBeNNvJ",
        "colab": {
          "base_uri": "https://localhost:8080/",
          "height": 514
        },
        "outputId": "39028bf7-1144-4a28-f778-1733c1d5f917"
      },
      "source": [
        "import matplotlib.pyplot as plt\n",
        "input_0 = df.loc[df['class'] == 0]\n",
        "y_0 = input_0['class']\n",
        "x_0 = input_0[['uniformity-of-cell-shape','uniformity-of-cell-size']]\n",
        "\n",
        "input_1 = df.loc[df['class'] == 1]\n",
        "y_1 = input_1['class']\n",
        "x_1 = input_1[['uniformity-of-cell-shape','uniformity-of-cell-size']]\n",
        "preds_0 = lr_model.predict(x_0)\n",
        "preds_1 = lr_model.predict(x_1)\n",
        "n, bins, patches = plt.hist(preds_0, bins=50, density=1, cumulative=0)\n",
        "plt.show()\n",
        "n, bins, patches = plt.hist(preds_1, bins=50, density=1, cumulative=0)\n",
        "plt.show()"
      ],
      "execution_count": 13,
      "outputs": [
        {
          "output_type": "display_data",
          "data": {
            "image/png": "[encoded data removed]",
            "text/plain": [
              "<Figure size 432x288 with 1 Axes>"
            ]
          },
          "metadata": {
            "needs_background": "light"
          }
        },
        {
          "output_type": "display_data",
          "data": {
            "image/png": "[encoded data removed]",
            "text/plain": [
              "<Figure size 432x288 with 1 Axes>"
            ]
          },
          "metadata": {
            "needs_background": "light"
          }
        }
      ]
    },
    {
      "cell_type": "markdown",
      "source": [
        "**Accuracy**"
      ],
      "metadata": {
        "id": "nNbuH3gLB6BF"
      }
    },
    {
      "cell_type": "code",
      "source": [
        "# Accuracy \n",
        "y_pred = lr_model.predict(x)\n",
        "y_pred = [1 if p > 0.9 else 0 for p in y_pred]\n",
        "from sklearn.metrics import accuracy_score\n",
        "accuracy_score(y, y_pred)"
      ],
      "metadata": {
        "colab": {
          "base_uri": "https://localhost:8080/"
        },
        "id": "jb9GPaewBMtG",
        "outputId": "9215b6ea-d1ff-4e78-e623-cf3fb50331aa"
      },
      "execution_count": 14,
      "outputs": [
        {
          "output_type": "execute_result",
          "data": {
            "text/plain": [
              "0.9456366237482118"
            ]
          },
          "metadata": {},
          "execution_count": 14
        }
      ]
    },
    {
      "cell_type": "markdown",
      "source": [
        "**Splitting the Dataset**"
      ],
      "metadata": {
        "id": "o-OOe0ZTB89y"
      }
    },
    {
      "cell_type": "code",
      "source": [
        "# Splitting the Dataset\n",
        "# split into train and test data\n",
        "from sklearn.model_selection import train_test_split\n",
        "\n",
        "(train,test) = train_test_split(df, test_size=0.2)\n",
        "train_output = train['class']\n",
        "train_input = train[['uniformity-of-cell-shape','uniformity-of-cell-size']]\n",
        "\n",
        "test_output = test['class']\n",
        "test_input = test[['uniformity-of-cell-shape','uniformity-of-cell-size']]\n",
        "\n",
        "lr_model.fit(train_input, train_output)\n",
        "print(\"Score: \", lr_model.score(train_input, train_output))"
      ],
      "metadata": {
        "colab": {
          "base_uri": "https://localhost:8080/"
        },
        "id": "BOSi204JBexP",
        "outputId": "d27200d0-44cb-4e89-c8d0-c672d1b3dd60"
      },
      "execution_count": 15,
      "outputs": [
        {
          "output_type": "stream",
          "name": "stdout",
          "text": [
            "Score:  0.9445438282647585\n"
          ]
        }
      ]
    },
    {
      "cell_type": "code",
      "source": [
        "input_0 = train.loc[train['class'] == 0]\n",
        "y_0 = input_0['class']\n",
        "x_0 = input_0[['uniformity-of-cell-shape','uniformity-of-cell-size']]\n",
        "\n",
        "input_1 = train.loc[train['class'] == 1]\n",
        "y_1 = input_1['class']\n",
        "x_1 = input_1[['uniformity-of-cell-shape','uniformity-of-cell-size']]\n",
        "preds_0 = lr_model.predict(x_0)\n",
        "preds_1 = lr_model.predict(x_1)\n",
        "n, bins, patches = plt.hist(preds_0, bins=50, density=1, cumulative=0)\n",
        "plt.show()\n",
        "n, bins, patches = plt.hist(preds_1, bins=50, density=1, cumulative=0)\n",
        "plt.show()"
      ],
      "metadata": {
        "id": "soyM1akDDO3P",
        "colab": {
          "base_uri": "https://localhost:8080/",
          "height": 514
        },
        "outputId": "29badb3e-258e-4793-d9b4-4a6da72954d1"
      },
      "execution_count": 16,
      "outputs": [
        {
          "output_type": "display_data",
          "data": {
            "image/png": "[encoded data removed]",
            "text/plain": [
              "<Figure size 432x288 with 1 Axes>"
            ]
          },
          "metadata": {
            "needs_background": "light"
          }
        },
        {
          "output_type": "display_data",
          "data": {
            "image/png": "[encoded data removed]",
            "text/plain": [
              "<Figure size 432x288 with 1 Axes>"
            ]
          },
          "metadata": {
            "needs_background": "light"
          }
        }
      ]
    },
    {
      "cell_type": "code",
      "source": [
        "y_pred = lr_model.predict(test_input)\n",
        "y_pred = [1 if p > 0.5 else 0 for p in y_pred]\n",
        "from sklearn.metrics import accuracy_score\n",
        "accuracy_score(test_output, y_pred)"
      ],
      "metadata": {
        "colab": {
          "base_uri": "https://localhost:8080/"
        },
        "id": "GS2BFB5gDczw",
        "outputId": "2b0fa6cd-10e1-4694-bb8a-c0e50c6c69d7"
      },
      "execution_count": 17,
      "outputs": [
        {
          "output_type": "execute_result",
          "data": {
            "text/plain": [
              "0.9214285714285714"
            ]
          },
          "metadata": {},
          "execution_count": 17
        }
      ]
    },
    {
      "cell_type": "markdown",
      "source": [
        "**Decomposing Accuracy**"
      ],
      "metadata": {
        "id": "yWq5EpEnDjCt"
      }
    },
    {
      "cell_type": "code",
      "source": [
        "from sklearn.metrics import confusion_matrix\n",
        "print(confusion_matrix(test_output, y_pred))\n",
        "\n",
        "print(\"Accuracy: \", accuracy_score(test_output, y_pred))\n",
        "\n",
        "tn, fp, fn, tp = confusion_matrix(test_output, y_pred).ravel()\n",
        "fpr = fp * 1.0 / (fp+tn) # Fraction of true negative cases with a positive prediction\n",
        "tpr = fn * 1.0 / (tp+fn) # Fraction of true positive cases with a negative prediction\n",
        "print(\"FPR:\", fpr)\n",
        "print(\"TPR:\", tpr)"
      ],
      "metadata": {
        "colab": {
          "base_uri": "https://localhost:8080/"
        },
        "id": "U3gizr_sDnle",
        "outputId": "b41e5f31-2315-407d-dc82-9b02ba0dcf6a"
      },
      "execution_count": 18,
      "outputs": [
        {
          "output_type": "stream",
          "name": "stdout",
          "text": [
            "[[87  3]\n",
            " [ 8 42]]\n",
            "Accuracy:  0.9214285714285714\n",
            "FPR: 0.03333333333333333\n",
            "TPR: 0.16\n"
          ]
        }
      ]
    },
    {
      "cell_type": "markdown",
      "metadata": {
        "id": "vpiCuvguNNvS"
      },
      "source": [
        "# Questions\n",
        "**What feature contributes most to the prediction? How can we tell?**"
      ]
    },
    {
      "cell_type": "markdown",
      "metadata": {
        "id": "YmpTtiemNNvT"
      },
      "source": [
        "Answer: The uniformity of the cell shape and size contribute most to the prediction and both have an accuracy of approximately 92%. If you run .score on the columns, you can tell. "
      ]
    },
    {
      "cell_type": "markdown",
      "metadata": {
        "id": "zlDc9idyNNvU"
      },
      "source": [
        "**Explain in your own words the difference between regression and classification methods.**"
      ]
    },
    {
      "cell_type": "markdown",
      "metadata": {
        "id": "oQi55oSLNNvV"
      },
      "source": [
        "Answer: The main difference between regression and classification method is what the predict. Classification predicts a dicrete class label while regression predicts a continuous quantity. In other words, in regression, the ouput could be any value between 0 and 1 which classification results in either 0 or 1, so it has a binary output. While there are some overlaps between the two methods, this is the general difference between the two. "
      ]
    },
    {
      "cell_type": "markdown",
      "metadata": {
        "id": "GaZLWMMjNNvV"
      },
      "source": [
        "**Is it best to use all the features or exclude some? Why?**"
      ]
    },
    {
      "cell_type": "markdown",
      "metadata": {
        "id": "7Kwmwj5SNNvX"
      },
      "source": [
        "Answer: Using all data features can be expensive and can increase processing time, and becuase of this it may be better to excluse some. Using all data features can overtrain data to the point where it could create outliers which could skew the data, and are essentially unnecessary in the long run. It is safer to utilize features that have the best impact on the data. "
      ]
    },
    {
      "cell_type": "markdown",
      "metadata": {
        "id": "nQYuLi-S1J4h"
      },
      "source": [
        "**What methods can be used to prevent over-training? How would or did you apply these methods to create a robust model?**"
      ]
    },
    {
      "cell_type": "markdown",
      "metadata": {
        "id": "HOywC4cV1TkQ"
      },
      "source": [
        "Answer: Doing a test/train split of your data can allow for the prevention of over-training. I would do this by using model_selection.train_test_split() function and select a portion of data to test randomly with the other portion of data. "
      ]
    }
  ]
}