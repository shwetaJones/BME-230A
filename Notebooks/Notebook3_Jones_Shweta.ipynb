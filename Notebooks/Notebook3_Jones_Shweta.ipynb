{
  "nbformat": 4,
  "nbformat_minor": 0,
  "metadata": {
    "colab": {
      "name": "Notebook3_Jones_Shweta.ipynb",
      "provenance": [],
      "collapsed_sections": []
    },
    "kernelspec": {
      "name": "python3",
      "display_name": "Python 3"
    }
  },
  "cells": [
    {
      "cell_type": "code",
      "metadata": {
        "id": "173pjFDiwTdM",
        "outputId": "0c6b6139-e674-4d7a-95cd-089f51a69524",
        "colab": {
          "base_uri": "https://localhost:8080/"
        }
      },
      "source": [
        "# Problem 1 - Build the BWT\n",
        "\n",
        "def makeBwt(t):\n",
        "  \"\"\"Create the BWT for the string t$\"\"\"\n",
        "  \n",
        "  # Code to complete\n",
        "  t = t + \"$\"\n",
        "  letters = list(t)\n",
        "  wordList = []\n",
        "  for i in range(len(t)):\n",
        "    word = t[-1] + t[0:-1]\n",
        "    wordList.append(word)\n",
        "    t = word\n",
        "    \n",
        "  sortedList = sorted(wordList)\n",
        "  \n",
        "  final = \"\"\n",
        "  for i in range(len(t)):\n",
        "    last = sortedList[i][-1]\n",
        "    final += last\n",
        "  return final \n",
        "\n",
        "text = \"GATTACA\"\n",
        "\n",
        "bwt = makeBwt(text)\n",
        "\n",
        "bwt == \"ACTGA$TA\""
      ],
      "execution_count": 10,
      "outputs": [
        {
          "output_type": "execute_result",
          "data": {
            "text/plain": [
              "True"
            ]
          },
          "metadata": {},
          "execution_count": 10
        }
      ]
    },
    {
      "cell_type": "code",
      "metadata": {
        "id": "LkOQQdDIzpz2",
        "outputId": "b7d701ae-ac90-46ec-ca02-c3aad7498c64",
        "colab": {
          "base_uri": "https://localhost:8080/"
        }
      },
      "source": [
        "# Problem 2 - Invert the BWT\n",
        "\n",
        "def invertBwt(bwt):\n",
        "  \"\"\"Inverts the Burrows-Wheeler Transform, returning the original string using \n",
        "  inefficent algorithm\"\"\"\n",
        "  \n",
        "  # Code to complete\n",
        "  ## Hint - see the lecture notes\n",
        "  letters = []\n",
        "  for i in bwt:\n",
        "    letters.append(i)\n",
        "\n",
        "  for j in range(len(bwt)-1):\n",
        "    sortedLetters = sorted(letters)\n",
        "    temp = []\n",
        "    for i in range(len(letters)):\n",
        "      temp.append(letters[i] + sortedLetters[i][-1])\n",
        "    letters = temp\n",
        "  \n",
        "  for j in letters:\n",
        "    if j[-1] == \"$\": #Returns the world that ends with $\n",
        "      return j\n",
        "\n",
        "invertBwt(bwt) == text + \"$\""
      ],
      "execution_count": 11,
      "outputs": [
        {
          "output_type": "execute_result",
          "data": {
            "text/plain": [
              "True"
            ]
          },
          "metadata": {},
          "execution_count": 11
        }
      ]
    },
    {
      "cell_type": "code",
      "metadata": {
        "id": "KsnqBYpl7md2",
        "outputId": "c77bae5a-dfc6-4919-f703-cdb0896e351a",
        "colab": {
          "base_uri": "https://localhost:8080/"
        }
      },
      "source": [
        "# Problem 3 - Complete Last-to-First mapping using FM-index\n",
        "\n",
        "class FmIndex(object):\n",
        "    def __init__(self, t, alphabet):\n",
        "      ''' Create FM-index for t in naive manner '''\n",
        "      \n",
        "      # Make the BWT \n",
        "      # We don't compress or anything here, but you could\n",
        "      self.bwt = makeBwt(t)\n",
        "      \n",
        "      # Calculate C lookup dictionary in crappy way\n",
        "      s = sorted(self.bwt)\n",
        "      self.C = {}\n",
        "      for i in range(len(s)-1, -1, -1):\n",
        "        self.C[s[i]] = i\n",
        "      \n",
        "      # Calculate full Occ table in similarly crappy way\n",
        "      # Recall, this is not using sampling and is therefore\n",
        "      # very memory inefficient \n",
        "      self.Occ = [ {} for i in range(len(self.bwt)) ]\n",
        "      for i in range(len(self.bwt)):\n",
        "        for j in alphabet + \"$\":\n",
        "          p = self.Occ[i-1][j] if i > 0 else 0\n",
        "          self.Occ[i][j] = p + (1 if self.bwt[i] == j else 0)\n",
        "      \n",
        "    def lf(self, i):\n",
        "      \"\"\" Return the last-to-first mapping for index i of the bwt \"\"\"\n",
        "      \n",
        "      ## Code to complete\n",
        "      # Hint, don't forget to convert between 0 based Python string coordinates and 1\n",
        "      # based coordinates of FM-index tables\n",
        "      letter = self.bwt[i]\n",
        "      index = self.C[letter] + self.Occ[i][letter] - 1\n",
        "      return index\n",
        "      \n",
        "\n",
        "dnaAlphabet = \"ACGT\"\n",
        "fmIndex = FmIndex(text, dnaAlphabet)\n",
        "\n",
        "fmIndex.lf(5) == 0"
      ],
      "execution_count": 12,
      "outputs": [
        {
          "output_type": "execute_result",
          "data": {
            "text/plain": [
              "True"
            ]
          },
          "metadata": {},
          "execution_count": 12
        }
      ]
    },
    {
      "cell_type": "code",
      "metadata": {
        "id": "XO8RDtA5W9aI",
        "outputId": "bc610d00-11cc-46b4-a050-2d19c779f0a0",
        "colab": {
          "base_uri": "https://localhost:8080/"
        }
      },
      "source": [
        "# Problem 4 - Use backward search to invert the BWT\n",
        "\n",
        "def invertBwtUsingFmIndex(fmIndex):\n",
        "  \"\"\" Returns t by using repeated lf search to reconstruct t$ backwards\"\"\"\n",
        "  \n",
        "  # Code to write\n",
        "  ## Hint: start from location of \"$\"  in bwt, then walk backwards using fmIndex.lf\n",
        "  ## function to build t\n",
        "  j = fmIndex.bwt.index(\"$\")\n",
        "  s = bwt[j]\n",
        "  for i in range(len(bwt)-1):\n",
        "    j = fmIndex.lf(j)\n",
        "    s = bwt[j] + s\n",
        "  return s\n",
        "\n",
        "invertBwtUsingFmIndex(fmIndex) == \"GATTACA$\""
      ],
      "execution_count": 13,
      "outputs": [
        {
          "output_type": "execute_result",
          "data": {
            "text/plain": [
              "True"
            ]
          },
          "metadata": {},
          "execution_count": 13
        }
      ]
    },
    {
      "cell_type": "markdown",
      "metadata": {
        "id": "khGNJCfkhInl"
      },
      "source": [
        "Problem 4 questions:\n",
        "\n",
        "Q1: What is the asymptotic runtime of your invertBwtUsingFmIndex function?\n",
        "\n",
        "The runtime for the invertBwtUsingFmIndex is 3.838539123535156e-05. \n",
        "\n",
        "Q2: How does this to compare to the runtime of the invertBWT function?\n",
        "\n",
        "The execution time for invertedBWT is 2.384185791015625e-05. This runtime is slightly lower than the runtime for the invertedBWT funcitons. "
      ]
    },
    {
      "cell_type": "code",
      "metadata": {
        "id": "Y5XishWt29jy"
      },
      "source": [
        "# Extra credit: adapt the FmIndex class and add a pattern query method to search for instance of input pattern in t"
      ],
      "execution_count": 14,
      "outputs": []
    }
  ]
}