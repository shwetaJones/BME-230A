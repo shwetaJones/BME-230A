{
  "nbformat": 4,
  "nbformat_minor": 0,
  "metadata": {
    "colab": {
      "name": "Notebook2_Jones_Shweta.ipynb",
      "provenance": [],
      "collapsed_sections": []
    },
    "kernelspec": {
      "name": "python3",
      "display_name": "Python 3"
    }
  },
  "cells": [
    {
      "cell_type": "code",
      "metadata": {
        "id": "EWxTJeWpxuL_"
      },
      "source": [
        "# Problem 1: Build a simple, list based k-mer index of a string to be searched\n",
        "\n",
        "# Example adapted from Ben Langmead (thanks!)\n",
        "\n",
        "import bisect\n",
        "import sys\n",
        "\n",
        "class Index(object):\n",
        "    def __init__(self, t, k):\n",
        "      ''' Create index from all substrings of size 'length' '''\n",
        "      self.t = t\n",
        "      self.k = k  # k-mer length (k)\n",
        "      self.index = []\n",
        "        \n",
        "      # Code to complete:\n",
        "      # For each k-mer add (k-mer, offset) pair to index \n",
        "      # and then sort k-mers in lexicographic order\n",
        "      for i in range((len(t)+1)-k):\n",
        "        self.index.append((t[i:i+k], i))\n",
        "      self.index.sort() #(self.index)\n",
        "      \n",
        "    \n",
        "    def queryKmer(self, kmer):\n",
        "      ''' Return locations of kmer in t'''\n",
        "      assert len(kmer) == self.k\n",
        "        \n",
        "      hits = [] \n",
        "        \n",
        "      # Code to complete:\n",
        "      # Find first location of kmer in self.index (hint: use bisect.bisect_left function)\n",
        "      # Iterate through self.index from first location of kmer to last adding matches to hits\n",
        "      for i in self.index:\n",
        "        if i[0] == kmer:\n",
        "          hits.append(i[1])\n",
        "        hits.sort()\n",
        "      return hits\n",
        "    \n",
        "    def query(self, p):\n",
        "      ''' Return occurrences of pattern p in t'''\n",
        "      kmer = p[:self.k]\n",
        "      occurrences = []\n",
        "      \n",
        "      # Code to complete:\n",
        "      # Use self.queryKmer to find locations of prefix kmer of p in t\n",
        "      # For each location, ascertain if suffix of p matches the corresponding substring\n",
        "      # of t, returning occurrences\n",
        "      hits = []\n",
        "      for i in self.index:\n",
        "        if i[0] == kmer:\n",
        "          hits.append(i[1])\n",
        "        hits.sort()\n",
        "\n",
        "      for i in hits:\n",
        "        suffix = self.t[i+self.k : i+self.k+len(p)-self.k]\n",
        "        if p[self.k:]==suffix:\n",
        "          occurrences.append(i)\n",
        "      return occurrences\n",
        "\n",
        "text = 'ACTTGGAGATCTTTGAGGCTAGGTATTCGGGATCGAAGCTCATTTCGGGGATCGATTACGATATGGTGGGTATTCGGGA'\n",
        "pattern = 'GGTATTCGGGA'\n",
        "K = 3\n",
        "\n",
        "index = Index(text, K)"
      ],
      "execution_count": 40,
      "outputs": []
    },
    {
      "cell_type": "code",
      "metadata": {
        "id": "nYLOQCGv4-sK",
        "outputId": "4dfa49ff-265e-4098-ffda-0fed190bb1c7",
        "colab": {
          "base_uri": "https://localhost:8080/"
        }
      },
      "source": [
        "# Test queryKmer method\n",
        "index.queryKmer(\"GGT\") == [21, 64, 68]"
      ],
      "execution_count": 41,
      "outputs": [
        {
          "output_type": "execute_result",
          "data": {
            "text/plain": [
              "True"
            ]
          },
          "metadata": {},
          "execution_count": 41
        }
      ]
    },
    {
      "cell_type": "code",
      "metadata": {
        "id": "iv8OP2Xi5HCJ",
        "outputId": "f054f997-c28f-41e6-8dc2-e1e4b998b4fd",
        "colab": {
          "base_uri": "https://localhost:8080/"
        }
      },
      "source": [
        "# Test query method\n",
        "index.query(pattern) == [21, 68]"
      ],
      "execution_count": 42,
      "outputs": [
        {
          "output_type": "execute_result",
          "data": {
            "text/plain": [
              "True"
            ]
          },
          "metadata": {},
          "execution_count": 42
        }
      ]
    },
    {
      "cell_type": "code",
      "metadata": {
        "id": "XVEVCzBU5leC",
        "outputId": "3a099409-63eb-4f84-8b98-71f7125e9f97",
        "colab": {
          "base_uri": "https://localhost:8080/"
        }
      },
      "source": [
        "# Report index specificity\n",
        "float(len(index.query(pattern)))/len(index.queryKmer(pattern[:K]))"
      ],
      "execution_count": 43,
      "outputs": [
        {
          "output_type": "execute_result",
          "data": {
            "text/plain": [
              "0.6666666666666666"
            ]
          },
          "metadata": {},
          "execution_count": 43
        }
      ]
    },
    {
      "cell_type": "code",
      "metadata": {
        "id": "XMScHko85RzN"
      },
      "source": [
        "# Problem 2: Build a simple suffix array\n",
        "\n",
        "\n",
        "class SuffixArray(object):\n",
        "    def __init__(self, t):\n",
        "      ''' Create suffix array representing suffixes in t '''\n",
        "      self.t = t\n",
        "      self.td = t + \"$\"\n",
        "      self.index = [] ## Array of integers representing lexicographically sorted suffixes of t\n",
        "      # e.g. for t$ = ATA$\n",
        "      # have suffixes\n",
        "      # 0 = ATA$\n",
        "      # 1 = TA$\n",
        "      # 2 = A$\n",
        "      # 3 = $\n",
        "      # such that self.index == [ 3, 2, 0, 1 ]\n",
        "      \n",
        "      # Code to complete - finish building self.index for t\n",
        "      suffixes = [self.td[-i:] for i in range(1, len(self.td) + 1)]\n",
        "      originalSuffixes = suffixes\n",
        "      revSuffixes = originalSuffixes[::-1]\n",
        "      suffixes.sort()\n",
        "      \n",
        "      suffixVal = {}\n",
        "      for i in range(len(revSuffixes)):\n",
        "        suffixVal[revSuffixes[i]] = i\n",
        "      \n",
        "      for i in originalSuffixes:\n",
        "        self.index.append(suffixVal[i])\n",
        "    \n",
        "    def query(self, p):\n",
        "      ''' Return occurrences of pattern p in t'''\n",
        "      \n",
        "      # Code to complete - find all occurrences of p in t by writing binary search\n",
        "      # function on self.index\n",
        "      l = 0; r = len(self.index)\n",
        "      while l < r:\n",
        "        mid = (l+r) // 2\n",
        "        if p > self.td[self.index[mid]:]:\n",
        "          l = mid + 1\n",
        "        else:\n",
        "          r = mid\n",
        "      start = l\n",
        "      \n",
        "      s = l; r = len(self.index) \n",
        "      while s < r:\n",
        "        mid = (s+r) // 2\n",
        "        if self.td[self.index[mid]:self.index[mid]+len(p)].startswith(p):\n",
        "          s = mid+1\n",
        "        else:\n",
        "          r = mid\n",
        "      end = r\n",
        "      \n",
        "      occurrences = []\n",
        "      for index in range(start,end,1):\n",
        "        occurrences.append(self.index[index]) #finds value at the index and places into the occurences list\n",
        "      return occurrences      "
      ],
      "execution_count": 44,
      "outputs": []
    },
    {
      "cell_type": "code",
      "metadata": {
        "id": "5YL7qI8uSWGc",
        "outputId": "ac177244-d8a4-40ca-8bc8-aebcdc668bf4",
        "colab": {
          "base_uri": "https://localhost:8080/"
        }
      },
      "source": [
        "# Test suffix array construction\n",
        "sa = SuffixArray(\"ATA\")\n",
        "sa.index == [ 3, 2, 0, 1 ]"
      ],
      "execution_count": 45,
      "outputs": [
        {
          "output_type": "execute_result",
          "data": {
            "text/plain": [
              "True"
            ]
          },
          "metadata": {},
          "execution_count": 45
        }
      ]
    },
    {
      "cell_type": "code",
      "metadata": {
        "id": "oNaNt7xJSyt4",
        "outputId": "b1ca3ee9-b0e0-45b2-ce8b-5f951294ddee",
        "colab": {
          "base_uri": "https://localhost:8080/"
        }
      },
      "source": [
        "# Test suffix array search\n",
        "sa = SuffixArray(text)\n",
        "sorted(sa.query(pattern)) == [21, 68]"
      ],
      "execution_count": 46,
      "outputs": [
        {
          "output_type": "execute_result",
          "data": {
            "text/plain": [
              "True"
            ]
          },
          "metadata": {},
          "execution_count": 46
        }
      ]
    }
  ]
}