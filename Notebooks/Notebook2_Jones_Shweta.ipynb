{
  "nbformat": 4,
  "nbformat_minor": 0,
  "metadata": {
    "colab": {
      "name": "Notebook2_Jones_Shweta.ipynb",
      "provenance": [],
      "collapsed_sections": []
    },
    "kernelspec": {
      "name": "python3",
      "display_name": "Python 3"
    }
  },
  "cells": [
    {
      "cell_type": "code",
      "metadata": {
        "id": "EWxTJeWpxuL_"
      },
      "source": [
        "# Problem 1: Build a simple, list based k-mer index of a string to be searched\n",
        "\n",
        "# Example adapted from Ben Langmead (thanks!)\n",
        "\n",
        "import bisect\n",
        "import sys\n",
        "\n",
        "class Index(object):\n",
        "    def __init__(self, t, k):\n",
        "      ''' Create index from all substrings of size 'length' '''\n",
        "      self.t = t\n",
        "      self.k = k  # k-mer length (k)\n",
        "      self.index = []\n",
        "        \n",
        "      # Code to complete:\n",
        "      # For each k-mer add (k-mer, offset) pair to index \n",
        "      # and then sort k-mers in lexicographic order\n",
        "      for i in range(len(t)-k+1):\n",
        "        self.index.append((t[i:i+3], i))\n",
        "      self.index.sort() #(self.index)\n",
        "      \n",
        "    \n",
        "    def queryKmer(self, kmer):\n",
        "      ''' Return locations of kmer in t'''\n",
        "        \n",
        "      assert len(kmer) == self.k\n",
        "        \n",
        "      hits = [] \n",
        "        \n",
        "      # Code to complete:\n",
        "      # Find first location of kmer in self.index (hint: use bisect.bisect_left function)\n",
        "      # Iterate through self.index from first location of kmer to last adding matches to hits\n",
        "      for i in self.index:\n",
        "        if i[0] == kmer:\n",
        "          hits.append(i[1])\n",
        "        hits.sort()\n",
        "      return hits\n",
        "    \n",
        "    def query(self, p):\n",
        "      ''' Return occurrences of pattern p in t'''\n",
        "      kmer = p[:self.k]\n",
        "      occurrences = []\n",
        "      \n",
        "      # Code to complete:\n",
        "      # Use self.queryKmer to find locations of prefix kmer of p in t\n",
        "      # For each location, ascertain if suffix of p matches the corresponding substring\n",
        "      # of t, returning occurrences\n",
        "      pKmers = []\n",
        "      for i in range(0,len(p)-self.k+1,3):\n",
        "        pKmers.append(p[i:i+3])\n",
        "      totalPKmers = len(pKmers)\n",
        "      \n",
        "      hits = []\n",
        "      for i in pKmers:\n",
        "        for j in self.index:\n",
        "          if j[0] == i:\n",
        "            hits.append(j[1])\n",
        "      hits.sort()\n",
        "\n",
        "      for i in range(len(hits)):\n",
        "        temp = hits[i:i+totalPKmers]\n",
        "        values = [temp[i+1]-temp[i] for i in range(len(temp)-1)]\n",
        "        if len(set(values)) == 1 and len(values) == totalPKmers-1:\n",
        "            occurrences.append(hits[i])\n",
        "      occurrences.sort()\n",
        "      return occurrences\n",
        "     \n",
        "text = 'ACTTGGAGATCTTTGAGGCTAGGTATTCGGGATCGAAGCTCATTTCGGGGATCGATTACGATATGGTGGGTATTCGGGA'\n",
        "pattern = 'GGTATTCGGGA'\n",
        "K = 3\n",
        "\n",
        "index = Index(text, K)"
      ],
      "execution_count": 8,
      "outputs": []
    },
    {
      "cell_type": "code",
      "metadata": {
        "id": "nYLOQCGv4-sK",
        "outputId": "77c39c6d-e565-44e3-9956-1e7de8cc0ec6",
        "colab": {
          "base_uri": "https://localhost:8080/"
        }
      },
      "source": [
        "# Test queryKmer method\n",
        "index.queryKmer(\"GGT\") == [21, 64, 68]"
      ],
      "execution_count": 9,
      "outputs": [
        {
          "output_type": "execute_result",
          "data": {
            "text/plain": [
              "True"
            ]
          },
          "metadata": {},
          "execution_count": 9
        }
      ]
    },
    {
      "cell_type": "code",
      "metadata": {
        "id": "iv8OP2Xi5HCJ",
        "outputId": "34e3cddb-5165-4a00-ea17-806f8a910047",
        "colab": {
          "base_uri": "https://localhost:8080/"
        }
      },
      "source": [
        "# Test query method\n",
        "index.query(pattern) == [21, 68]"
      ],
      "execution_count": 10,
      "outputs": [
        {
          "output_type": "execute_result",
          "data": {
            "text/plain": [
              "True"
            ]
          },
          "metadata": {},
          "execution_count": 10
        }
      ]
    },
    {
      "cell_type": "code",
      "metadata": {
        "id": "XVEVCzBU5leC",
        "outputId": "95d78956-b6ef-4913-ea73-8e1902730d14",
        "colab": {
          "base_uri": "https://localhost:8080/"
        }
      },
      "source": [
        "# Report index specificity\n",
        "float(len(index.query(pattern)))/len(index.queryKmer(pattern[:K]))"
      ],
      "execution_count": 11,
      "outputs": [
        {
          "output_type": "execute_result",
          "data": {
            "text/plain": [
              "0.6666666666666666"
            ]
          },
          "metadata": {},
          "execution_count": 11
        }
      ]
    },
    {
      "cell_type": "code",
      "metadata": {
        "id": "XMScHko85RzN"
      },
      "source": [
        "# Problem 2: Build a simple suffix array\n",
        "\n",
        "\n",
        "class SuffixArray(object):\n",
        "    def __init__(self, t):\n",
        "      ''' Create suffix array representing suffixes in t '''\n",
        "      self.t = t\n",
        "      self.td = t + \"$\"\n",
        "      self.index = [] ## Array of integers representing lexicographically sorted suffixes of t\n",
        "      # e.g. for t$ = ATA$\n",
        "      # have suffixes\n",
        "      # 0 = ATA$\n",
        "      # 1 = TA$\n",
        "      # 2 = A$\n",
        "      # 3 = $\n",
        "      # such that self.index == [ 3, 2, 0, 1 ]\n",
        "      \n",
        "      # Code to complete - finish building self.index for t\n",
        "      suffixes = [self.td[-i:] for i in range(1, len(self.td) + 1)]\n",
        "      originalSuffixes = suffixes\n",
        "      revSuffixes = originalSuffixes[::-1]\n",
        "      suffixes.sort()\n",
        "      \n",
        "      suffixVal = {}\n",
        "      for i in range(len(revSuffixes)):\n",
        "        suffixVal[revSuffixes[i]] = i\n",
        "      \n",
        "      for i in originalSuffixes:\n",
        "        self.index.append(suffixVal[i])\n",
        "    \n",
        "    def query(self, p):\n",
        "      ''' Return occurrences of pattern p in t'''\n",
        "      \n",
        "      # Code to complete - find all occurrences of p in t by writing binary search\n",
        "      # function on self.index\n",
        "      l = 0; r = len(self.index)\n",
        "      while l < r:\n",
        "        mid = (l+r) // 2\n",
        "        if p > self.td[self.index[mid]:]:\n",
        "          l = mid + 1\n",
        "        else:\n",
        "          r = mid\n",
        "      start = l\n",
        "      \n",
        "      s = l; r = len(self.index) \n",
        "      while s < r:\n",
        "        mid = (s+r) // 2\n",
        "        if self.td[self.index[mid]:self.index[mid]+len(p)].startswith(p):\n",
        "          s = mid+1\n",
        "        else:\n",
        "          r = mid\n",
        "      end = r\n",
        "      \n",
        "      occurrences = []\n",
        "      for index in range(start,end,1):\n",
        "        occurrences.append(self.index[index]) #finds value at the index and places into the occurences list\n",
        "      return occurrences\n",
        "\n",
        "      # suffixAt = self.td[self.index[mid]]:\n",
        "      "
      ],
      "execution_count": 12,
      "outputs": []
    },
    {
      "cell_type": "code",
      "metadata": {
        "id": "5YL7qI8uSWGc",
        "outputId": "208a578e-4956-45dd-d0a1-f8ae93d4306c",
        "colab": {
          "base_uri": "https://localhost:8080/"
        }
      },
      "source": [
        "# Test suffix array construction\n",
        "sa = SuffixArray(\"ATA\")\n",
        "sa.index == [ 3, 2, 0, 1 ]"
      ],
      "execution_count": 13,
      "outputs": [
        {
          "output_type": "execute_result",
          "data": {
            "text/plain": [
              "True"
            ]
          },
          "metadata": {},
          "execution_count": 13
        }
      ]
    },
    {
      "cell_type": "code",
      "metadata": {
        "id": "oNaNt7xJSyt4",
        "outputId": "93a14bd2-6f13-4290-bc74-f1942d0bc3c8",
        "colab": {
          "base_uri": "https://localhost:8080/"
        }
      },
      "source": [
        "# Test suffix array search\n",
        "sa = SuffixArray(text)\n",
        "sorted(sa.query(pattern)) == [21, 68]"
      ],
      "execution_count": 14,
      "outputs": [
        {
          "output_type": "execute_result",
          "data": {
            "text/plain": [
              "True"
            ]
          },
          "metadata": {},
          "execution_count": 14
        }
      ]
    }
  ]
}