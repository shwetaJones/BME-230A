{
  "nbformat": 4,
  "nbformat_minor": 0,
  "metadata": {
    "colab": {
      "name": "Notebook6_Jones_Shweta.ipynb",
      "provenance": [],
      "collapsed_sections": []
    },
    "kernelspec": {
      "name": "python3",
      "display_name": "Python 3"
    }
  },
  "cells": [
    {
      "cell_type": "markdown",
      "metadata": {
        "id": "4tNMMVFsUEPL"
      },
      "source": [
        "Phylogeny, part 3 - playing with small parsimony"
      ]
    },
    {
      "cell_type": "code",
      "metadata": {
        "id": "wbqbnPxfN8Yj",
        "colab": {
          "base_uri": "https://localhost:8080/"
        },
        "outputId": "4c8206e0-6a11-482e-8d37-4cbcd18d343b"
      },
      "source": [
        "# Let's do weighted small parsimony \n",
        "\n",
        "## Problem 1\n",
        "\n",
        "import sys\n",
        "\n",
        "class N: \n",
        "  \"\"\" Class to represent internal node, leaves are strings \"\"\"\n",
        "  def __init__(self, left, right, leftBranchLength=1.0, rightBranchLength=1.0):\n",
        "    self.left, self.right, self.leftBranchLength, self.rightBranchLength = left, right, leftBranchLength, rightBranchLength\n",
        "    \n",
        "tree = N(N(\"A\", N(\"T\", \"T\")), N(N(N(\"T\", \"T\"), \"A\"), \"A\")) # Example tree\n",
        "\n",
        "def subCost(ancestorChar, descendantChar, branchLength):\n",
        "  \"\"\" Substitution cost function \"\"\"\n",
        "  return 0 if ancestorChar == descendantChar else 1\n",
        "\n",
        "# positive infinity\n",
        "p_inf = float(\"inf\")\n",
        "\n",
        "def parsimonyCost(t, alphabet=\"ACGT\", subCostFn=subCost):\n",
        "  \"\"\" Calculates the cost of substitutions for the given tree t node of a tree, \n",
        "  returns dictionary of alphabet characters to costs\"\"\"\n",
        "  # Code to write - hint use isinstance function to determine if node is internal or leaf\n",
        "  pDict = {}\n",
        "  for i in alphabet:\n",
        "    pDict[i] = 0\n",
        "  if isinstance(t, str):\n",
        "    cDict = {}\n",
        "    for i in alphabet:\n",
        "      if i != t:\n",
        "        cDict[i] = p_inf\n",
        "      else:\n",
        "        cDict[i] = 0\n",
        "    return cDict\n",
        "  \n",
        "  else: #do recursive \n",
        "    leftLeaf = parsimonyCost(t.left, alphabet=alphabet, subCostFn=subCostFn)\n",
        "    rightLeaf = parsimonyCost(t.right, alphabet=alphabet, subCostFn=subCostFn)\n",
        "    for i in pDict:\n",
        "      leftChild = []; rightChild = []\n",
        "      for j in rightLeaf:\n",
        "        leftChild.append(subCostFn(i, j, t.leftBranchLength)+leftLeaf[j])\n",
        "        rightChild.append(subCostFn(i, j, t.rightBranchLength)+rightLeaf[j])\n",
        "      pDict[i] = min(leftChild) + min(rightChild)\n",
        "    return pDict\n",
        "                                        \n",
        "print(parsimonyCost(tree)) # Should print {'A': 2, 'C': 4, 'G': 4, 'T': 3}"
      ],
      "execution_count": 11,
      "outputs": [
        {
          "output_type": "stream",
          "name": "stdout",
          "text": [
            "{'A': 2, 'C': 4, 'G': 4, 'T': 3}\n"
          ]
        }
      ]
    },
    {
      "cell_type": "markdown",
      "metadata": {
        "id": "zw7D1z5kTfoW"
      },
      "source": [
        "Now let's make this fully probablistic"
      ]
    },
    {
      "cell_type": "code",
      "metadata": {
        "id": "IkCp5WkmTf-T",
        "colab": {
          "base_uri": "https://localhost:8080/"
        },
        "outputId": "1a8d3189-b9f7-4193-c7e4-6297b2c38dcc"
      },
      "source": [
        "# Problem 2: Adapt the substitution cost function to use the Jukes Cantor function, using -log probability of substitution\n",
        "# for cost\n",
        "\n",
        "import math\n",
        "\n",
        "def jc(d):\n",
        "  \"\"\" Jukes Cantor function which gives probability of observing a substitution for a given branch length\"\"\"\n",
        "  return (3.0/4.0) * (1.0 - math.exp(-(4.0/3.0) * d))\n",
        "\n",
        "def jukesCantorSubCostFn(ancestorChar, descendantChar, branchLength):\n",
        "  \"\"\" Jukes Cantor probability function - this is an exercise. \n",
        "  \n",
        "  Use Jukes Cantor to calculate log probability of substitution given branch length and ancestor and descendant characters\"\"\"\n",
        "  # Code to implement \n",
        "  return -math.log(jc(branchLength)/3) if ancestorChar != descendantChar else -math.log(1-jc(branchLength))\n",
        "\n",
        "bl = 0.0000001\n",
        "tree = N(N(\"A\", N(\"A\", \"A\", bl, bl), bl, bl), N(N(N(\"A\", \"A\", bl, bl), \"A\", bl, bl), \"A\", bl, bl), bl, bl) # Example tree\n",
        "\n",
        "print(parsimonyCost(tree, subCostFn=jukesCantorSubCostFn)) # Should print something like: {'A': 1.199999980764579e-06, 'C': 34.433417011866986, 'G': 34.433417011866986, 'T': 34.433417011866986}\n",
        "\n",
        "# Things to consider: (this does not need to be completed for the homework)\n",
        "\n",
        "## This is \"Ancestral Maximal Likelihood\", in that it takes a min over the -log probs\n",
        "## Q. How would you convert to ML? \n",
        "## A. Try changing the mins to log sums, e.g. to calculate log(x + y), given log(x) and log(y) \n"
      ],
      "execution_count": 12,
      "outputs": [
        {
          "output_type": "stream",
          "name": "stdout",
          "text": [
            "{'A': 1.199999980764579e-06, 'C': 34.433417011866986, 'G': 34.433417011866986, 'T': 34.433417011866986}\n"
          ]
        }
      ]
    }
  ]
}