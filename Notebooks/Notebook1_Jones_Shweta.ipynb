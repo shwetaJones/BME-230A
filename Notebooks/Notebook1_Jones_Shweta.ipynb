{
  "nbformat": 4,
  "nbformat_minor": 0,
  "metadata": {
    "colab": {
      "name": "Notebook1_Jones_Shweta.ipynb",
      "provenance": [],
      "collapsed_sections": []
    },
    "kernelspec": {
      "name": "python3",
      "display_name": "Python 3"
    }
  },
  "cells": [
    {
      "cell_type": "code",
      "metadata": {
        "id": "s92l617dK0qU",
        "colab": {
          "base_uri": "https://localhost:8080/"
        },
        "outputId": "bed668e7-5397-4815-c717-3a7e14f0c28f"
      },
      "source": [
        "# Problem 1 - implement a naive string matching algorithm:\n",
        "\n",
        "pattern = \"CCTTTTGC\"\n",
        "text = \"CGTGCCTACTTACTTACTTACCTTTTGCCTTTTGCACGCGAA\"\n",
        "\n",
        "def naive(p, t):\n",
        "  characterComparisons = 0\n",
        "  occurrences = []\n",
        "\n",
        "  # Code to complete - do not use find or the \"in\" operator\n",
        "  # Based off/Is the code provided in class\n",
        "  for i in range(len(t) - len(p) + 1):\n",
        "    match = True\n",
        "    for j in range(len(p)):\n",
        "      characterComparisons += 1\n",
        "      if t[i+j] != p[j]:\n",
        "        match = False\n",
        "        break\n",
        "    if match:\n",
        "      occurrences.append(i)\n",
        "  return occurrences, characterComparisons\n",
        "\n",
        "naive(pattern, text) == ([20, 27], 60)\n"
      ],
      "execution_count": 96,
      "outputs": [
        {
          "output_type": "execute_result",
          "data": {
            "text/plain": [
              "True"
            ]
          },
          "metadata": {},
          "execution_count": 96
        }
      ]
    },
    {
      "cell_type": "code",
      "metadata": {
        "id": "DPZWlfxCLk-0",
        "colab": {
          "base_uri": "https://localhost:8080/"
        },
        "outputId": "1722c557-ad0a-4a2d-da7e-f16dad96975b"
      },
      "source": [
        "# Problem 2 - implement the bad character rule:\n",
        "\n",
        "dnaAlphabet=\"ACGT\"\n",
        "\n",
        "def makeBadCharacterRuleLookupTable(p, alphabet):\n",
        "  \n",
        "  # Make len(alphabet) x len(p) lookup table\n",
        "  badCharacterRuleLookupTable = [ [1]*len(alphabet) for i in range(len(p)) ]\n",
        "  \n",
        "  # Code to complete\n",
        "  for i in range(1, len(badCharacterRuleLookupTable)):\n",
        "    for j in range(0, len(alphabet)):\n",
        "      if alphabet[j] != p[i-1]:\n",
        "        pastVal = badCharacterRuleLookupTable[i-1][j]\n",
        "        badCharacterRuleLookupTable[i][j] = pastVal + badCharacterRuleLookupTable[i][j]\n",
        "  \n",
        "  return badCharacterRuleLookupTable\n",
        "          \n",
        "makeBadCharacterRuleLookupTable(pattern, dnaAlphabet) == [[1, 1, 1, 1],\n",
        " [2, 1, 2, 2],\n",
        " [3, 1, 3, 3],\n",
        " [4, 2, 4, 1],\n",
        " [5, 3, 5, 1],\n",
        " [6, 4, 6, 1],\n",
        " [7, 5, 7, 1],\n",
        " [8, 6, 1, 2]]"
      ],
      "execution_count": 99,
      "outputs": [
        {
          "output_type": "execute_result",
          "data": {
            "text/plain": [
              "True"
            ]
          },
          "metadata": {},
          "execution_count": 99
        }
      ]
    },
    {
      "cell_type": "code",
      "metadata": {
        "id": "EnSKkm5k1FvN",
        "colab": {
          "base_uri": "https://localhost:8080/"
        },
        "outputId": "f6fef6d3-a819-458c-88e9-4eabbe58e829"
      },
      "source": [
        "# Problem 3 - use the bad character rule lookup table to reduce the total number of character comparisons\n",
        "\n",
        "def naivePlusBadCharacter(p, t, bclut, alphabet):\n",
        "  characterComparisons = 0\n",
        "  occurrences = []\n",
        "  \n",
        "  # Code to complete\n",
        "  # Based off the code provided in class\n",
        "  alphabetValues = {}\n",
        "  for i in range(len(alphabet)):\n",
        "    alphabetValues[alphabet[i]] = i\n",
        "  i = 0\n",
        "  while(i<(len(t)-len(p)+1)):\n",
        "    match = True \n",
        "    for j in range(len(p)):\n",
        "      characterComparisons += 1\n",
        "      sFlip = t[i:(i+len(p))][::-1]\n",
        "      pFlip = p[::-1]\n",
        "      if sFlip[j] != pFlip[j]:\n",
        "        match = False\n",
        "        i += bclut[len(p)-j-1][alphabetValues[sFlip[j]]]\n",
        "        break\n",
        "    if match:\n",
        "      occurrences.append(i)\n",
        "      i += 1\n",
        "  \n",
        "  return occurrences, characterComparisons\n",
        "\n",
        "bclut = makeBadCharacterRuleLookupTable(pattern, dnaAlphabet)\n",
        "naivePlusBadCharacter(pattern, text, bclut, dnaAlphabet) == ([20, 27], 24)"
      ],
      "execution_count": 100,
      "outputs": [
        {
          "output_type": "execute_result",
          "data": {
            "text/plain": [
              "True"
            ]
          },
          "metadata": {},
          "execution_count": 100
        }
      ]
    }
  ]
}